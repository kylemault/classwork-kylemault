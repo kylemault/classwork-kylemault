{
 "cells": [
  {
   "cell_type": "markdown",
   "id": "297f0149",
   "metadata": {},
   "source": [
    "# Pandas Lecture Lab Activity"
   ]
  },
  {
   "cell_type": "markdown",
   "id": "473ea44b",
   "metadata": {},
   "source": []
  },
  {
   "cell_type": "markdown",
   "id": "f2ef48d7",
   "metadata": {},
   "source": [
    "What is CRUD?"
   ]
  },
  {
   "cell_type": "markdown",
   "id": "59544abc",
   "metadata": {},
   "source": [
    "Create, Read, Update. ande Delete"
   ]
  },
  {
   "cell_type": "markdown",
   "id": "598c7df6",
   "metadata": {},
   "source": [
    "Using pandas import the Module 7 Lecture Lab Activity.csv"
   ]
  },
  {
   "cell_type": "code",
   "execution_count": 3,
   "id": "c1851cf7",
   "metadata": {},
   "outputs": [],
   "source": [
    "import pandas as pd"
   ]
  },
  {
   "cell_type": "code",
   "execution_count": 4,
   "id": "4802f7af",
   "metadata": {},
   "outputs": [],
   "source": [
    "df = pd.read_csv('Module_7_Lecture_Lab_Activity.csv', encoding='ISO-8859-1')"
   ]
  },
  {
   "cell_type": "markdown",
   "id": "acf422c7",
   "metadata": {},
   "source": [
    "Show the header for the CSV."
   ]
  },
  {
   "cell_type": "code",
   "execution_count": 5,
   "id": "e6f931a8",
   "metadata": {},
   "outputs": [
    {
     "data": {
      "text/html": [
       "<div>\n",
       "<style scoped>\n",
       "    .dataframe tbody tr th:only-of-type {\n",
       "        vertical-align: middle;\n",
       "    }\n",
       "\n",
       "    .dataframe tbody tr th {\n",
       "        vertical-align: top;\n",
       "    }\n",
       "\n",
       "    .dataframe thead th {\n",
       "        text-align: right;\n",
       "    }\n",
       "</style>\n",
       "<table border=\"1\" class=\"dataframe\">\n",
       "  <thead>\n",
       "    <tr style=\"text-align: right;\">\n",
       "      <th></th>\n",
       "      <th>Names</th>\n",
       "      <th>Type of Candy</th>\n",
       "      <th>Cost</th>\n",
       "    </tr>\n",
       "  </thead>\n",
       "  <tbody>\n",
       "    <tr>\n",
       "      <th>0</th>\n",
       "      <td>Damien</td>\n",
       "      <td>Almond Joy</td>\n",
       "      <td>1.96</td>\n",
       "    </tr>\n",
       "    <tr>\n",
       "      <th>1</th>\n",
       "      <td>adalynn gilman</td>\n",
       "      <td>Reeses</td>\n",
       "      <td>1.48</td>\n",
       "    </tr>\n",
       "    <tr>\n",
       "      <th>2</th>\n",
       "      <td>Noah Papenbrock</td>\n",
       "      <td>Hershey's Special Dark Zero Sugar Chocolate Bar</td>\n",
       "      <td>2.48</td>\n",
       "    </tr>\n",
       "    <tr>\n",
       "      <th>3</th>\n",
       "      <td>Mrwan</td>\n",
       "      <td>Snickers</td>\n",
       "      <td>1.00</td>\n",
       "    </tr>\n",
       "    <tr>\n",
       "      <th>4</th>\n",
       "      <td>Trenton Ly</td>\n",
       "      <td>Reese's</td>\n",
       "      <td>23.87</td>\n",
       "    </tr>\n",
       "  </tbody>\n",
       "</table>\n",
       "</div>"
      ],
      "text/plain": [
       "             Names                                    Type of Candy   Cost\n",
       "0           Damien                                       Almond Joy   1.96\n",
       "1   adalynn gilman                                           Reeses   1.48\n",
       "2  Noah Papenbrock  Hershey's Special Dark Zero Sugar Chocolate Bar   2.48\n",
       "3            Mrwan                                         Snickers   1.00\n",
       "4       Trenton Ly                                          Reese's  23.87"
      ]
     },
     "execution_count": 5,
     "metadata": {},
     "output_type": "execute_result"
    }
   ],
   "source": [
    "df.head()"
   ]
  },
  {
   "cell_type": "markdown",
   "id": "465c6e3a",
   "metadata": {},
   "source": [
    "Show the first 15 rows of the CSV."
   ]
  },
  {
   "cell_type": "code",
   "execution_count": 6,
   "id": "1abb73a9",
   "metadata": {},
   "outputs": [
    {
     "data": {
      "text/html": [
       "<div>\n",
       "<style scoped>\n",
       "    .dataframe tbody tr th:only-of-type {\n",
       "        vertical-align: middle;\n",
       "    }\n",
       "\n",
       "    .dataframe tbody tr th {\n",
       "        vertical-align: top;\n",
       "    }\n",
       "\n",
       "    .dataframe thead th {\n",
       "        text-align: right;\n",
       "    }\n",
       "</style>\n",
       "<table border=\"1\" class=\"dataframe\">\n",
       "  <thead>\n",
       "    <tr style=\"text-align: right;\">\n",
       "      <th></th>\n",
       "      <th>Names</th>\n",
       "      <th>Type of Candy</th>\n",
       "      <th>Cost</th>\n",
       "    </tr>\n",
       "  </thead>\n",
       "  <tbody>\n",
       "    <tr>\n",
       "      <th>0</th>\n",
       "      <td>Damien</td>\n",
       "      <td>Almond Joy</td>\n",
       "      <td>1.96</td>\n",
       "    </tr>\n",
       "    <tr>\n",
       "      <th>1</th>\n",
       "      <td>adalynn gilman</td>\n",
       "      <td>Reeses</td>\n",
       "      <td>1.48</td>\n",
       "    </tr>\n",
       "    <tr>\n",
       "      <th>2</th>\n",
       "      <td>Noah Papenbrock</td>\n",
       "      <td>Hershey's Special Dark Zero Sugar Chocolate Bar</td>\n",
       "      <td>2.48</td>\n",
       "    </tr>\n",
       "    <tr>\n",
       "      <th>3</th>\n",
       "      <td>Mrwan</td>\n",
       "      <td>Snickers</td>\n",
       "      <td>1.00</td>\n",
       "    </tr>\n",
       "    <tr>\n",
       "      <th>4</th>\n",
       "      <td>Trenton Ly</td>\n",
       "      <td>Reese's</td>\n",
       "      <td>23.87</td>\n",
       "    </tr>\n",
       "    <tr>\n",
       "      <th>5</th>\n",
       "      <td>alexander kauffman</td>\n",
       "      <td>Almond Joy</td>\n",
       "      <td>1.48</td>\n",
       "    </tr>\n",
       "    <tr>\n",
       "      <th>6</th>\n",
       "      <td>William Espich</td>\n",
       "      <td>Skittles</td>\n",
       "      <td>3.28</td>\n",
       "    </tr>\n",
       "    <tr>\n",
       "      <th>7</th>\n",
       "      <td>Andres H</td>\n",
       "      <td>reeces</td>\n",
       "      <td>1.20</td>\n",
       "    </tr>\n",
       "    <tr>\n",
       "      <th>8</th>\n",
       "      <td>Blake Tippmann</td>\n",
       "      <td>3 musketeers</td>\n",
       "      <td>1.48</td>\n",
       "    </tr>\n",
       "    <tr>\n",
       "      <th>9</th>\n",
       "      <td>Elijah Kite</td>\n",
       "      <td>Jolly Ranchers</td>\n",
       "      <td>18.69</td>\n",
       "    </tr>\n",
       "    <tr>\n",
       "      <th>10</th>\n",
       "      <td>Nick Schuhmacher</td>\n",
       "      <td>mints</td>\n",
       "      <td>1.50</td>\n",
       "    </tr>\n",
       "    <tr>\n",
       "      <th>11</th>\n",
       "      <td>Kevin Nguyen</td>\n",
       "      <td>Snickers</td>\n",
       "      <td>0.98</td>\n",
       "    </tr>\n",
       "    <tr>\n",
       "      <th>12</th>\n",
       "      <td>Chase McCarel</td>\n",
       "      <td>Milky Way</td>\n",
       "      <td>0.74</td>\n",
       "    </tr>\n",
       "    <tr>\n",
       "      <th>13</th>\n",
       "      <td>Eja</td>\n",
       "      <td>Skittles (50 oz bag)</td>\n",
       "      <td>9.98</td>\n",
       "    </tr>\n",
       "    <tr>\n",
       "      <th>14</th>\n",
       "      <td>Sarah Martinez</td>\n",
       "      <td>Twix</td>\n",
       "      <td>0.88</td>\n",
       "    </tr>\n",
       "  </tbody>\n",
       "</table>\n",
       "</div>"
      ],
      "text/plain": [
       "                 Names                                    Type of Candy   Cost\n",
       "0               Damien                                       Almond Joy   1.96\n",
       "1       adalynn gilman                                           Reeses   1.48\n",
       "2      Noah Papenbrock  Hershey's Special Dark Zero Sugar Chocolate Bar   2.48\n",
       "3                Mrwan                                         Snickers   1.00\n",
       "4           Trenton Ly                                          Reese's  23.87\n",
       "5   alexander kauffman                                       Almond Joy   1.48\n",
       "6       William Espich                                         Skittles   3.28\n",
       "7             Andres H                                           reeces   1.20\n",
       "8       Blake Tippmann                                     3 musketeers   1.48\n",
       "9          Elijah Kite                                   Jolly Ranchers  18.69\n",
       "10    Nick Schuhmacher                                            mints   1.50\n",
       "11        Kevin Nguyen                                         Snickers   0.98\n",
       "12       Chase McCarel                                        Milky Way   0.74\n",
       "13                 Eja                             Skittles (50 oz bag)   9.98\n",
       "14      Sarah Martinez                                             Twix   0.88"
      ]
     },
     "execution_count": 6,
     "metadata": {},
     "output_type": "execute_result"
    }
   ],
   "source": [
    "df.head(15)"
   ]
  },
  {
   "cell_type": "markdown",
   "id": "984746cf",
   "metadata": {},
   "source": [
    "Show the last 7 rows of the CSV."
   ]
  },
  {
   "cell_type": "code",
   "execution_count": 7,
   "id": "3a9db751",
   "metadata": {},
   "outputs": [
    {
     "data": {
      "text/html": [
       "<div>\n",
       "<style scoped>\n",
       "    .dataframe tbody tr th:only-of-type {\n",
       "        vertical-align: middle;\n",
       "    }\n",
       "\n",
       "    .dataframe tbody tr th {\n",
       "        vertical-align: top;\n",
       "    }\n",
       "\n",
       "    .dataframe thead th {\n",
       "        text-align: right;\n",
       "    }\n",
       "</style>\n",
       "<table border=\"1\" class=\"dataframe\">\n",
       "  <thead>\n",
       "    <tr style=\"text-align: right;\">\n",
       "      <th></th>\n",
       "      <th>Names</th>\n",
       "      <th>Type of Candy</th>\n",
       "      <th>Cost</th>\n",
       "    </tr>\n",
       "  </thead>\n",
       "  <tbody>\n",
       "    <tr>\n",
       "      <th>106</th>\n",
       "      <td>Jaxon Worrell</td>\n",
       "      <td>Jolly Ranchers</td>\n",
       "      <td>0.99</td>\n",
       "    </tr>\n",
       "    <tr>\n",
       "      <th>107</th>\n",
       "      <td>Emmett</td>\n",
       "      <td>take 5</td>\n",
       "      <td>0.99</td>\n",
       "    </tr>\n",
       "    <tr>\n",
       "      <th>108</th>\n",
       "      <td>Michael Drane</td>\n",
       "      <td>Trolli sour gummy worms</td>\n",
       "      <td>0.99</td>\n",
       "    </tr>\n",
       "    <tr>\n",
       "      <th>109</th>\n",
       "      <td>Sean Wilson</td>\n",
       "      <td>Mike N Ikes or Skittles</td>\n",
       "      <td>1.99</td>\n",
       "    </tr>\n",
       "    <tr>\n",
       "      <th>110</th>\n",
       "      <td>izzy</td>\n",
       "      <td>gummy bears</td>\n",
       "      <td>1.99</td>\n",
       "    </tr>\n",
       "    <tr>\n",
       "      <th>111</th>\n",
       "      <td>brina</td>\n",
       "      <td>reeses</td>\n",
       "      <td>1.99</td>\n",
       "    </tr>\n",
       "    <tr>\n",
       "      <th>112</th>\n",
       "      <td>kennedy ledbbeter</td>\n",
       "      <td>almond heresy</td>\n",
       "      <td>1.99</td>\n",
       "    </tr>\n",
       "  </tbody>\n",
       "</table>\n",
       "</div>"
      ],
      "text/plain": [
       "                 Names            Type of Candy  Cost\n",
       "106      Jaxon Worrell           Jolly Ranchers  0.99\n",
       "107             Emmett                   take 5  0.99\n",
       "108      Michael Drane  Trolli sour gummy worms  0.99\n",
       "109        Sean Wilson  Mike N Ikes or Skittles  1.99\n",
       "110               izzy              gummy bears  1.99\n",
       "111              brina                   reeses  1.99\n",
       "112  kennedy ledbbeter            almond heresy  1.99"
      ]
     },
     "execution_count": 7,
     "metadata": {},
     "output_type": "execute_result"
    }
   ],
   "source": [
    "df.tail(7)"
   ]
  },
  {
   "cell_type": "markdown",
   "id": "b623110f",
   "metadata": {},
   "source": [
    "Show all the Columns of the CSV."
   ]
  },
  {
   "cell_type": "code",
   "execution_count": 8,
   "id": "51237cf3",
   "metadata": {},
   "outputs": [
    {
     "data": {
      "text/plain": [
       "Index(['Names', 'Type of Candy', 'Cost'], dtype='object')"
      ]
     },
     "execution_count": 8,
     "metadata": {},
     "output_type": "execute_result"
    }
   ],
   "source": [
    "df.columns"
   ]
  },
  {
   "cell_type": "markdown",
   "id": "f11a662f",
   "metadata": {},
   "source": [
    "Show the specific data types of the CSV."
   ]
  },
  {
   "cell_type": "code",
   "execution_count": 9,
   "id": "c02a1bec",
   "metadata": {},
   "outputs": [
    {
     "data": {
      "text/plain": [
       "Names             object\n",
       "Type of Candy     object\n",
       "Cost             float64\n",
       "dtype: object"
      ]
     },
     "execution_count": 9,
     "metadata": {},
     "output_type": "execute_result"
    }
   ],
   "source": [
    "df.dtypes"
   ]
  },
  {
   "cell_type": "markdown",
   "id": "9c20225a",
   "metadata": {},
   "source": [
    "Show a statistical summary of the CSV."
   ]
  },
  {
   "cell_type": "code",
   "execution_count": 10,
   "id": "49eacfd6",
   "metadata": {},
   "outputs": [
    {
     "data": {
      "text/html": [
       "<div>\n",
       "<style scoped>\n",
       "    .dataframe tbody tr th:only-of-type {\n",
       "        vertical-align: middle;\n",
       "    }\n",
       "\n",
       "    .dataframe tbody tr th {\n",
       "        vertical-align: top;\n",
       "    }\n",
       "\n",
       "    .dataframe thead th {\n",
       "        text-align: right;\n",
       "    }\n",
       "</style>\n",
       "<table border=\"1\" class=\"dataframe\">\n",
       "  <thead>\n",
       "    <tr style=\"text-align: right;\">\n",
       "      <th></th>\n",
       "      <th>Cost</th>\n",
       "    </tr>\n",
       "  </thead>\n",
       "  <tbody>\n",
       "    <tr>\n",
       "      <th>count</th>\n",
       "      <td>113.000000</td>\n",
       "    </tr>\n",
       "    <tr>\n",
       "      <th>mean</th>\n",
       "      <td>2.391416</td>\n",
       "    </tr>\n",
       "    <tr>\n",
       "      <th>std</th>\n",
       "      <td>3.623166</td>\n",
       "    </tr>\n",
       "    <tr>\n",
       "      <th>min</th>\n",
       "      <td>0.740000</td>\n",
       "    </tr>\n",
       "    <tr>\n",
       "      <th>25%</th>\n",
       "      <td>0.990000</td>\n",
       "    </tr>\n",
       "    <tr>\n",
       "      <th>50%</th>\n",
       "      <td>1.160000</td>\n",
       "    </tr>\n",
       "    <tr>\n",
       "      <th>75%</th>\n",
       "      <td>1.990000</td>\n",
       "    </tr>\n",
       "    <tr>\n",
       "      <th>max</th>\n",
       "      <td>23.870000</td>\n",
       "    </tr>\n",
       "  </tbody>\n",
       "</table>\n",
       "</div>"
      ],
      "text/plain": [
       "             Cost\n",
       "count  113.000000\n",
       "mean     2.391416\n",
       "std      3.623166\n",
       "min      0.740000\n",
       "25%      0.990000\n",
       "50%      1.160000\n",
       "75%      1.990000\n",
       "max     23.870000"
      ]
     },
     "execution_count": 10,
     "metadata": {},
     "output_type": "execute_result"
    }
   ],
   "source": [
    "df.describe()"
   ]
  },
  {
   "cell_type": "markdown",
   "id": "cef7d9b6",
   "metadata": {},
   "source": [
    "What objects are not included in the statistical summary?\n",
    "How can I get the objects that are not included?"
   ]
  },
  {
   "cell_type": "markdown",
   "id": "830cb9c3",
   "metadata": {},
   "source": [
    "What is not include is object"
   ]
  },
  {
   "cell_type": "code",
   "execution_count": 11,
   "id": "a4800aae",
   "metadata": {},
   "outputs": [],
   "source": [
    "# write the code to show me how to get the objects that are not included"
   ]
  },
  {
   "cell_type": "code",
   "execution_count": 12,
   "id": "52b15a58",
   "metadata": {},
   "outputs": [
    {
     "data": {
      "text/html": [
       "<div>\n",
       "<style scoped>\n",
       "    .dataframe tbody tr th:only-of-type {\n",
       "        vertical-align: middle;\n",
       "    }\n",
       "\n",
       "    .dataframe tbody tr th {\n",
       "        vertical-align: top;\n",
       "    }\n",
       "\n",
       "    .dataframe thead th {\n",
       "        text-align: right;\n",
       "    }\n",
       "</style>\n",
       "<table border=\"1\" class=\"dataframe\">\n",
       "  <thead>\n",
       "    <tr style=\"text-align: right;\">\n",
       "      <th></th>\n",
       "      <th>Names</th>\n",
       "      <th>Type of Candy</th>\n",
       "    </tr>\n",
       "  </thead>\n",
       "  <tbody>\n",
       "    <tr>\n",
       "      <th>count</th>\n",
       "      <td>113</td>\n",
       "      <td>113</td>\n",
       "    </tr>\n",
       "    <tr>\n",
       "      <th>unique</th>\n",
       "      <td>53</td>\n",
       "      <td>75</td>\n",
       "    </tr>\n",
       "    <tr>\n",
       "      <th>top</th>\n",
       "      <td>Damien</td>\n",
       "      <td>Snickers</td>\n",
       "    </tr>\n",
       "    <tr>\n",
       "      <th>freq</th>\n",
       "      <td>3</td>\n",
       "      <td>6</td>\n",
       "    </tr>\n",
       "  </tbody>\n",
       "</table>\n",
       "</div>"
      ],
      "text/plain": [
       "         Names Type of Candy\n",
       "count      113           113\n",
       "unique      53            75\n",
       "top     Damien      Snickers\n",
       "freq         3             6"
      ]
     },
     "execution_count": 12,
     "metadata": {},
     "output_type": "execute_result"
    }
   ],
   "source": [
    "df.describe(include='object')"
   ]
  },
  {
   "cell_type": "markdown",
   "id": "99d9800b",
   "metadata": {},
   "source": [
    "Show how to filter the names from the rest of the table?"
   ]
  },
  {
   "cell_type": "code",
   "execution_count": 13,
   "id": "3d5beb44",
   "metadata": {},
   "outputs": [
    {
     "data": {
      "text/plain": [
       "0                 Damien\n",
       "1         adalynn gilman\n",
       "2        Noah Papenbrock\n",
       "3                  Mrwan\n",
       "4             Trenton Ly\n",
       "             ...        \n",
       "108        Michael Drane\n",
       "109          Sean Wilson\n",
       "110                 izzy\n",
       "111                brina\n",
       "112    kennedy ledbbeter\n",
       "Name: Names, Length: 113, dtype: object"
      ]
     },
     "execution_count": 13,
     "metadata": {},
     "output_type": "execute_result"
    }
   ],
   "source": [
    "df['Names']"
   ]
  },
  {
   "cell_type": "markdown",
   "id": "1f33826d",
   "metadata": {},
   "source": [
    "Show me the unique names."
   ]
  },
  {
   "cell_type": "code",
   "execution_count": 14,
   "id": "83411794",
   "metadata": {},
   "outputs": [
    {
     "data": {
      "text/plain": [
       "array(['Damien', 'adalynn gilman', 'Noah Papenbrock', 'Mrwan',\n",
       "       'Trenton Ly', 'alexander kauffman', 'William Espich', 'Andres H',\n",
       "       'Blake Tippmann', 'Elijah Kite', 'Nick Schuhmacher',\n",
       "       'Kevin Nguyen', 'Chase McCarel', 'Eja', 'Sarah Martinez',\n",
       "       'Gabriel Moore', 'brianna', 'Cathy Wise', 'alexis', 'Audrey marks',\n",
       "       'Xayne Blair', 'Corban Saylor', 'Langston', 'Allan', 'Kim',\n",
       "       'Bryce Bland', 'Troy', 'shaheim', 'jasiah waxton', 'edaevion',\n",
       "       'Hong Rot', 'Ethan Morse', 'Ibrahim Nokour', 'Kevin Carter',\n",
       "       'braniah', 'Tate Rex', 'faith', 'Juan Ruiz', 'Chris McCalla',\n",
       "       'Riley Wilds', 'Christian Rogers', 'Leo',\n",
       "       'Nor Aisa Binti Abdul Molna', 'Sa Hay', 'Grant Simpson', 'maya',\n",
       "       'Jaxon Worrell', 'Emmett', 'Michael Drane', 'Sean Wilson', 'izzy',\n",
       "       'brina', 'kennedy ledbbeter'], dtype=object)"
      ]
     },
     "execution_count": 14,
     "metadata": {},
     "output_type": "execute_result"
    }
   ],
   "source": [
    "df.Names.unique()"
   ]
  },
  {
   "cell_type": "markdown",
   "id": "425f1898",
   "metadata": {},
   "source": [
    "Show me only the rows that are under $1.00"
   ]
  },
  {
   "cell_type": "code",
   "execution_count": 15,
   "id": "e6f7febf",
   "metadata": {},
   "outputs": [
    {
     "data": {
      "text/html": [
       "<div>\n",
       "<style scoped>\n",
       "    .dataframe tbody tr th:only-of-type {\n",
       "        vertical-align: middle;\n",
       "    }\n",
       "\n",
       "    .dataframe tbody tr th {\n",
       "        vertical-align: top;\n",
       "    }\n",
       "\n",
       "    .dataframe thead th {\n",
       "        text-align: right;\n",
       "    }\n",
       "</style>\n",
       "<table border=\"1\" class=\"dataframe\">\n",
       "  <thead>\n",
       "    <tr style=\"text-align: right;\">\n",
       "      <th></th>\n",
       "      <th>Names</th>\n",
       "      <th>Type of Candy</th>\n",
       "      <th>Cost</th>\n",
       "    </tr>\n",
       "  </thead>\n",
       "  <tbody>\n",
       "  </tbody>\n",
       "</table>\n",
       "</div>"
      ],
      "text/plain": [
       "Empty DataFrame\n",
       "Columns: [Names, Type of Candy, Cost]\n",
       "Index: []"
      ]
     },
     "execution_count": 15,
     "metadata": {},
     "output_type": "execute_result"
    }
   ],
   "source": [
    "df[df['Cost']=='1.00']"
   ]
  },
  {
   "cell_type": "markdown",
   "id": "7642a8a7",
   "metadata": {},
   "source": [
    "Show only the rows 17 to 37"
   ]
  },
  {
   "cell_type": "code",
   "execution_count": 16,
   "id": "11b253e4",
   "metadata": {},
   "outputs": [
    {
     "data": {
      "text/html": [
       "<div>\n",
       "<style scoped>\n",
       "    .dataframe tbody tr th:only-of-type {\n",
       "        vertical-align: middle;\n",
       "    }\n",
       "\n",
       "    .dataframe tbody tr th {\n",
       "        vertical-align: top;\n",
       "    }\n",
       "\n",
       "    .dataframe thead th {\n",
       "        text-align: right;\n",
       "    }\n",
       "</style>\n",
       "<table border=\"1\" class=\"dataframe\">\n",
       "  <thead>\n",
       "    <tr style=\"text-align: right;\">\n",
       "      <th></th>\n",
       "      <th>Names</th>\n",
       "      <th>Type of Candy</th>\n",
       "      <th>Cost</th>\n",
       "    </tr>\n",
       "  </thead>\n",
       "  <tbody>\n",
       "    <tr>\n",
       "      <th>17</th>\n",
       "      <td>Cathy Wise</td>\n",
       "      <td>Snicker</td>\n",
       "      <td>1.19</td>\n",
       "    </tr>\n",
       "    <tr>\n",
       "      <th>18</th>\n",
       "      <td>alexis</td>\n",
       "      <td>Gummy Bears</td>\n",
       "      <td>1.00</td>\n",
       "    </tr>\n",
       "    <tr>\n",
       "      <th>19</th>\n",
       "      <td>Audrey marks</td>\n",
       "      <td>heath bar</td>\n",
       "      <td>1.63</td>\n",
       "    </tr>\n",
       "    <tr>\n",
       "      <th>20</th>\n",
       "      <td>Xayne Blair</td>\n",
       "      <td>Skittles</td>\n",
       "      <td>2.28</td>\n",
       "    </tr>\n",
       "    <tr>\n",
       "      <th>21</th>\n",
       "      <td>Corban Saylor</td>\n",
       "      <td>3 musketeers</td>\n",
       "      <td>1.48</td>\n",
       "    </tr>\n",
       "    <tr>\n",
       "      <th>22</th>\n",
       "      <td>Langston</td>\n",
       "      <td>Reeses</td>\n",
       "      <td>1.96</td>\n",
       "    </tr>\n",
       "    <tr>\n",
       "      <th>23</th>\n",
       "      <td>Allan</td>\n",
       "      <td>Hershey Bar</td>\n",
       "      <td>0.88</td>\n",
       "    </tr>\n",
       "    <tr>\n",
       "      <th>24</th>\n",
       "      <td>Kim</td>\n",
       "      <td>Reese's Chocolate</td>\n",
       "      <td>1.48</td>\n",
       "    </tr>\n",
       "    <tr>\n",
       "      <th>25</th>\n",
       "      <td>Bryce Bland</td>\n",
       "      <td>Hersheys Candy Bar</td>\n",
       "      <td>0.88</td>\n",
       "    </tr>\n",
       "    <tr>\n",
       "      <th>26</th>\n",
       "      <td>Troy</td>\n",
       "      <td>cookie n crème Hershey</td>\n",
       "      <td>1.48</td>\n",
       "    </tr>\n",
       "    <tr>\n",
       "      <th>27</th>\n",
       "      <td>shaheim</td>\n",
       "      <td>Candy Corn</td>\n",
       "      <td>2.28</td>\n",
       "    </tr>\n",
       "    <tr>\n",
       "      <th>28</th>\n",
       "      <td>jasiah waxton</td>\n",
       "      <td>Kit Kat Minis, White Creme</td>\n",
       "      <td>2.98</td>\n",
       "    </tr>\n",
       "    <tr>\n",
       "      <th>29</th>\n",
       "      <td>edaevion</td>\n",
       "      <td>Almond Joy</td>\n",
       "      <td>1.64</td>\n",
       "    </tr>\n",
       "    <tr>\n",
       "      <th>30</th>\n",
       "      <td>Damien</td>\n",
       "      <td>Reece's</td>\n",
       "      <td>2.06</td>\n",
       "    </tr>\n",
       "    <tr>\n",
       "      <th>31</th>\n",
       "      <td>adalynn gilman</td>\n",
       "      <td>Lifesavers</td>\n",
       "      <td>5.28</td>\n",
       "    </tr>\n",
       "    <tr>\n",
       "      <th>32</th>\n",
       "      <td>Noah Papenbrock</td>\n",
       "      <td>Great Value Peach Rings</td>\n",
       "      <td>0.98</td>\n",
       "    </tr>\n",
       "    <tr>\n",
       "      <th>33</th>\n",
       "      <td>Mrwan</td>\n",
       "      <td>Reeses take 5</td>\n",
       "      <td>2.98</td>\n",
       "    </tr>\n",
       "    <tr>\n",
       "      <th>34</th>\n",
       "      <td>Trenton Ly</td>\n",
       "      <td>Kit Kats</td>\n",
       "      <td>9.94</td>\n",
       "    </tr>\n",
       "    <tr>\n",
       "      <th>35</th>\n",
       "      <td>alexander kauffman</td>\n",
       "      <td>KitKat</td>\n",
       "      <td>1.48</td>\n",
       "    </tr>\n",
       "    <tr>\n",
       "      <th>36</th>\n",
       "      <td>William Espich</td>\n",
       "      <td>Starburst</td>\n",
       "      <td>9.98</td>\n",
       "    </tr>\n",
       "  </tbody>\n",
       "</table>\n",
       "</div>"
      ],
      "text/plain": [
       "                 Names               Type of Candy  Cost\n",
       "17          Cathy Wise                     Snicker  1.19\n",
       "18              alexis                 Gummy Bears  1.00\n",
       "19        Audrey marks                   heath bar  1.63\n",
       "20         Xayne Blair                    Skittles  2.28\n",
       "21       Corban Saylor                3 musketeers  1.48\n",
       "22            Langston                      Reeses  1.96\n",
       "23               Allan                 Hershey Bar  0.88\n",
       "24                 Kim           Reese's Chocolate  1.48\n",
       "25         Bryce Bland          Hersheys Candy Bar  0.88\n",
       "26                Troy      cookie n crème Hershey  1.48\n",
       "27             shaheim                  Candy Corn  2.28\n",
       "28       jasiah waxton  Kit Kat Minis, White Creme  2.98\n",
       "29            edaevion                  Almond Joy  1.64\n",
       "30              Damien                     Reece's  2.06\n",
       "31      adalynn gilman                  Lifesavers  5.28\n",
       "32     Noah Papenbrock     Great Value Peach Rings  0.98\n",
       "33               Mrwan               Reeses take 5  2.98\n",
       "34          Trenton Ly                    Kit Kats  9.94\n",
       "35  alexander kauffman                      KitKat  1.48\n",
       "36      William Espich                   Starburst  9.98"
      ]
     },
     "execution_count": 16,
     "metadata": {},
     "output_type": "execute_result"
    }
   ],
   "source": [
    "df.iloc[17:37]"
   ]
  },
  {
   "cell_type": "markdown",
   "id": "afc57c6d",
   "metadata": {},
   "source": [
    "Show only the rows that are for Damien."
   ]
  },
  {
   "cell_type": "code",
   "execution_count": 17,
   "id": "c39a6285",
   "metadata": {},
   "outputs": [
    {
     "data": {
      "text/html": [
       "<div>\n",
       "<style scoped>\n",
       "    .dataframe tbody tr th:only-of-type {\n",
       "        vertical-align: middle;\n",
       "    }\n",
       "\n",
       "    .dataframe tbody tr th {\n",
       "        vertical-align: top;\n",
       "    }\n",
       "\n",
       "    .dataframe thead th {\n",
       "        text-align: right;\n",
       "    }\n",
       "</style>\n",
       "<table border=\"1\" class=\"dataframe\">\n",
       "  <thead>\n",
       "    <tr style=\"text-align: right;\">\n",
       "      <th></th>\n",
       "      <th>Names</th>\n",
       "      <th>Type of Candy</th>\n",
       "      <th>Cost</th>\n",
       "    </tr>\n",
       "  </thead>\n",
       "  <tbody>\n",
       "    <tr>\n",
       "      <th>0</th>\n",
       "      <td>Damien</td>\n",
       "      <td>Almond Joy</td>\n",
       "      <td>1.96</td>\n",
       "    </tr>\n",
       "    <tr>\n",
       "      <th>30</th>\n",
       "      <td>Damien</td>\n",
       "      <td>Reece's</td>\n",
       "      <td>2.06</td>\n",
       "    </tr>\n",
       "    <tr>\n",
       "      <th>84</th>\n",
       "      <td>Damien</td>\n",
       "      <td>Reese's</td>\n",
       "      <td>1.99</td>\n",
       "    </tr>\n",
       "  </tbody>\n",
       "</table>\n",
       "</div>"
      ],
      "text/plain": [
       "     Names Type of Candy  Cost\n",
       "0   Damien    Almond Joy  1.96\n",
       "30  Damien       Reece's  2.06\n",
       "84  Damien       Reese's  1.99"
      ]
     },
     "execution_count": 17,
     "metadata": {},
     "output_type": "execute_result"
    }
   ],
   "source": [
    "df[df['Names']=='Damien']"
   ]
  },
  {
   "cell_type": "markdown",
   "id": "39ad6196",
   "metadata": {},
   "source": [
    "Create a new column names is_candy and make all the rows True"
   ]
  },
  {
   "cell_type": "code",
   "execution_count": null,
   "id": "319f80c1",
   "metadata": {},
   "outputs": [],
   "source": [
    "df['is_candy']\n",
    "df[df['is_candy']==True].head()"
   ]
  },
  {
   "cell_type": "markdown",
   "id": "0c88367d",
   "metadata": {},
   "source": [
    "Change the name of the row you created to Candy."
   ]
  },
  {
   "cell_type": "code",
   "execution_count": null,
   "id": "c7ba12f8",
   "metadata": {},
   "outputs": [
    {
     "data": {
      "text/html": [
       "<div>\n",
       "<style scoped>\n",
       "    .dataframe tbody tr th:only-of-type {\n",
       "        vertical-align: middle;\n",
       "    }\n",
       "\n",
       "    .dataframe tbody tr th {\n",
       "        vertical-align: top;\n",
       "    }\n",
       "\n",
       "    .dataframe thead th {\n",
       "        text-align: right;\n",
       "    }\n",
       "</style>\n",
       "<table border=\"1\" class=\"dataframe\">\n",
       "  <thead>\n",
       "    <tr style=\"text-align: right;\">\n",
       "      <th></th>\n",
       "      <th>Names</th>\n",
       "      <th>Type of Candy</th>\n",
       "      <th>Cost</th>\n",
       "      <th>Candy</th>\n",
       "    </tr>\n",
       "  </thead>\n",
       "  <tbody>\n",
       "    <tr>\n",
       "      <th>0</th>\n",
       "      <td>Damien</td>\n",
       "      <td>Almond Joy</td>\n",
       "      <td>1.96</td>\n",
       "      <td>True</td>\n",
       "    </tr>\n",
       "    <tr>\n",
       "      <th>1</th>\n",
       "      <td>adalynn gilman</td>\n",
       "      <td>Reeses</td>\n",
       "      <td>1.48</td>\n",
       "      <td>True</td>\n",
       "    </tr>\n",
       "    <tr>\n",
       "      <th>2</th>\n",
       "      <td>Noah Papenbrock</td>\n",
       "      <td>Hershey's Special Dark Zero Sugar Chocolate Bar</td>\n",
       "      <td>2.48</td>\n",
       "      <td>True</td>\n",
       "    </tr>\n",
       "    <tr>\n",
       "      <th>3</th>\n",
       "      <td>Mrwan</td>\n",
       "      <td>Snickers</td>\n",
       "      <td>1.00</td>\n",
       "      <td>True</td>\n",
       "    </tr>\n",
       "    <tr>\n",
       "      <th>4</th>\n",
       "      <td>Trenton Ly</td>\n",
       "      <td>Reese's</td>\n",
       "      <td>23.87</td>\n",
       "      <td>True</td>\n",
       "    </tr>\n",
       "  </tbody>\n",
       "</table>\n",
       "</div>"
      ],
      "text/plain": [
       "             Names                                    Type of Candy   Cost  \\\n",
       "0           Damien                                       Almond Joy   1.96   \n",
       "1   adalynn gilman                                           Reeses   1.48   \n",
       "2  Noah Papenbrock  Hershey's Special Dark Zero Sugar Chocolate Bar   2.48   \n",
       "3            Mrwan                                         Snickers   1.00   \n",
       "4       Trenton Ly                                          Reese's  23.87   \n",
       "\n",
       "   Candy  \n",
       "0   True  \n",
       "1   True  \n",
       "2   True  \n",
       "3   True  \n",
       "4   True  "
      ]
     },
     "execution_count": 50,
     "metadata": {},
     "output_type": "execute_result"
    }
   ],
   "source": [
    "df.rename(columns={'is_candy': 'Candy'}, inplace=True)\n",
    "df.head()\n"
   ]
  },
  {
   "cell_type": "markdown",
   "id": "dd5c1840",
   "metadata": {},
   "source": [
    "Write an statement that iterates through the list and finds all the Snicker or snickers"
   ]
  },
  {
   "cell_type": "code",
   "execution_count": null,
   "id": "939679cd",
   "metadata": {},
   "outputs": [
    {
     "data": {
      "text/html": [
       "<div>\n",
       "<style scoped>\n",
       "    .dataframe tbody tr th:only-of-type {\n",
       "        vertical-align: middle;\n",
       "    }\n",
       "\n",
       "    .dataframe tbody tr th {\n",
       "        vertical-align: top;\n",
       "    }\n",
       "\n",
       "    .dataframe thead th {\n",
       "        text-align: right;\n",
       "    }\n",
       "</style>\n",
       "<table border=\"1\" class=\"dataframe\">\n",
       "  <thead>\n",
       "    <tr style=\"text-align: right;\">\n",
       "      <th></th>\n",
       "      <th>Names</th>\n",
       "      <th>Type of Candy</th>\n",
       "      <th>Cost</th>\n",
       "      <th>Candy</th>\n",
       "    </tr>\n",
       "  </thead>\n",
       "  <tbody>\n",
       "  </tbody>\n",
       "</table>\n",
       "</div>"
      ],
      "text/plain": [
       "Empty DataFrame\n",
       "Columns: [Names, Type of Candy, Cost, Candy]\n",
       "Index: []"
      ]
     },
     "execution_count": 53,
     "metadata": {},
     "output_type": "execute_result"
    }
   ],
   "source": [
    "df[(df['Type of Candy']=='Snicker') & (df['Type of Candy']=='snicker')]\n"
   ]
  },
  {
   "cell_type": "markdown",
   "id": "86dc11f3",
   "metadata": {},
   "source": [
    "Using iloc change the 3rd row's candy column to False"
   ]
  },
  {
   "cell_type": "code",
   "execution_count": null,
   "id": "384d3f57",
   "metadata": {},
   "outputs": [
    {
     "data": {
      "text/html": [
       "<div>\n",
       "<style scoped>\n",
       "    .dataframe tbody tr th:only-of-type {\n",
       "        vertical-align: middle;\n",
       "    }\n",
       "\n",
       "    .dataframe tbody tr th {\n",
       "        vertical-align: top;\n",
       "    }\n",
       "\n",
       "    .dataframe thead th {\n",
       "        text-align: right;\n",
       "    }\n",
       "</style>\n",
       "<table border=\"1\" class=\"dataframe\">\n",
       "  <thead>\n",
       "    <tr style=\"text-align: right;\">\n",
       "      <th></th>\n",
       "      <th>Names</th>\n",
       "      <th>Type of Candy</th>\n",
       "      <th>Cost</th>\n",
       "      <th>Candy</th>\n",
       "    </tr>\n",
       "  </thead>\n",
       "  <tbody>\n",
       "    <tr>\n",
       "      <th>0</th>\n",
       "      <td>Damien</td>\n",
       "      <td>Almond Joy</td>\n",
       "      <td>1.96</td>\n",
       "      <td>True</td>\n",
       "    </tr>\n",
       "    <tr>\n",
       "      <th>1</th>\n",
       "      <td>adalynn gilman</td>\n",
       "      <td>Reeses</td>\n",
       "      <td>1.48</td>\n",
       "      <td>True</td>\n",
       "    </tr>\n",
       "    <tr>\n",
       "      <th>2</th>\n",
       "      <td>Noah Papenbrock</td>\n",
       "      <td>Hershey's Special Dark Zero Sugar Chocolate Bar</td>\n",
       "      <td>2.48</td>\n",
       "      <td>True</td>\n",
       "    </tr>\n",
       "    <tr>\n",
       "      <th>3</th>\n",
       "      <td>Mrwan</td>\n",
       "      <td>Snickers</td>\n",
       "      <td>1.00</td>\n",
       "      <td>True</td>\n",
       "    </tr>\n",
       "    <tr>\n",
       "      <th>4</th>\n",
       "      <td>Trenton Ly</td>\n",
       "      <td>Reese's</td>\n",
       "      <td>23.87</td>\n",
       "      <td>True</td>\n",
       "    </tr>\n",
       "  </tbody>\n",
       "</table>\n",
       "</div>"
      ],
      "text/plain": [
       "             Names                                    Type of Candy   Cost  \\\n",
       "0           Damien                                       Almond Joy   1.96   \n",
       "1   adalynn gilman                                           Reeses   1.48   \n",
       "2  Noah Papenbrock  Hershey's Special Dark Zero Sugar Chocolate Bar   2.48   \n",
       "3            Mrwan                                         Snickers   1.00   \n",
       "4       Trenton Ly                                          Reese's  23.87   \n",
       "\n",
       "   Candy  \n",
       "0   True  \n",
       "1   True  \n",
       "2   True  \n",
       "3   True  \n",
       "4   True  "
      ]
     },
     "execution_count": 54,
     "metadata": {},
     "output_type": "execute_result"
    }
   ],
   "source": [
    "df.iloc[0,3] = True\n",
    "df.head()"
   ]
  },
  {
   "cell_type": "markdown",
   "id": "f739b01c",
   "metadata": {},
   "source": [
    "Output the table to a csv named 'your_last_name_mod7output.csv'"
   ]
  },
  {
   "cell_type": "code",
   "execution_count": null,
   "id": "c5ef4a7a",
   "metadata": {},
   "outputs": [],
   "source": [
    "df.to_csv('mault_mod7output.csv')"
   ]
  },
  {
   "cell_type": "markdown",
   "id": "f149f3ba",
   "metadata": {},
   "source": [
    "Drop the candy column permanently"
   ]
  },
  {
   "cell_type": "code",
   "execution_count": null,
   "id": "b1a13aea",
   "metadata": {},
   "outputs": [
    {
     "data": {
      "text/plain": [
       "<bound method NDFrame.head of                  Names                                    Type of Candy   Cost\n",
       "0               Damien                                       Almond Joy   1.96\n",
       "1       adalynn gilman                                           Reeses   1.48\n",
       "2      Noah Papenbrock  Hershey's Special Dark Zero Sugar Chocolate Bar   2.48\n",
       "3                Mrwan                                         Snickers   1.00\n",
       "4           Trenton Ly                                          Reese's  23.87\n",
       "..                 ...                                              ...    ...\n",
       "108      Michael Drane                          Trolli sour gummy worms   0.99\n",
       "109        Sean Wilson                          Mike N Ikes or Skittles   1.99\n",
       "110               izzy                                      gummy bears   1.99\n",
       "111              brina                                           reeses   1.99\n",
       "112  kennedy ledbbeter                                    almond heresy   1.99\n",
       "\n",
       "[113 rows x 3 columns]>"
      ]
     },
     "execution_count": 62,
     "metadata": {},
     "output_type": "execute_result"
    }
   ],
   "source": [
    "df.drop('Candy', axis=1, inplace=True)\n",
    "df.head"
   ]
  },
  {
   "cell_type": "markdown",
   "id": "6fd88ff4",
   "metadata": {},
   "source": [
    "# Please turn in the completed Juypter Notebook along with your output csv to github. Make sure that I can see the notebook and it is not just the file as this sometimes does not work. A link to the location on the repo should be submitted."
   ]
  },
  {
   "cell_type": "code",
   "execution_count": null,
   "id": "782a9706",
   "metadata": {},
   "outputs": [],
   "source": []
  }
 ],
 "metadata": {
  "kernelspec": {
   "display_name": "Python 3",
   "language": "python",
   "name": "python3"
  },
  "language_info": {
   "codemirror_mode": {
    "name": "ipython",
    "version": 3
   },
   "file_extension": ".py",
   "mimetype": "text/x-python",
   "name": "python",
   "nbconvert_exporter": "python",
   "pygments_lexer": "ipython3",
   "version": "3.13.0"
  }
 },
 "nbformat": 4,
 "nbformat_minor": 5
}
