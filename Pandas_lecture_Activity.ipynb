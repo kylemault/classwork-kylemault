{
 "cells": [
  {
   "cell_type": "markdown",
   "id": "297f0149",
   "metadata": {},
   "source": [
    "# Pandas Lecture Lab Activity"
   ]
  },
  {
   "cell_type": "markdown",
   "id": "473ea44b",
   "metadata": {},
   "source": []
  },
  {
   "cell_type": "markdown",
   "id": "f2ef48d7",
   "metadata": {},
   "source": [
    "What is CRUD?"
   ]
  },
  {
   "cell_type": "markdown",
   "id": "59544abc",
   "metadata": {},
   "source": [
    "Create, Read, Update. ande Delete"
   ]
  },
  {
   "cell_type": "markdown",
   "id": "598c7df6",
   "metadata": {},
   "source": [
    "Using pandas import the Module 7 Lecture Lab Activity.csv"
   ]
  },
  {
   "cell_type": "code",
   "execution_count": null,
   "id": "c1851cf7",
   "metadata": {},
   "outputs": [],
   "source": [
    "import pandas as pd"
   ]
  },
  {
   "cell_type": "code",
   "execution_count": null,
   "id": "4802f7af",
   "metadata": {},
   "outputs": [],
   "source": [
    "df = pd.read_csv('Lab_activity.csv')"
   ]
  },
  {
   "cell_type": "markdown",
   "id": "acf422c7",
   "metadata": {},
   "source": [
    "Show the header for the CSV."
   ]
  },
  {
   "cell_type": "code",
   "execution_count": null,
   "id": "e6f931a8",
   "metadata": {},
   "outputs": [],
   "source": [
    "df.head()"
   ]
  },
  {
   "cell_type": "markdown",
   "id": "465c6e3a",
   "metadata": {},
   "source": [
    "Show the first 15 rows of the CSV."
   ]
  },
  {
   "cell_type": "code",
   "execution_count": null,
   "id": "1abb73a9",
   "metadata": {},
   "outputs": [],
   "source": [
    "df.head(15)"
   ]
  },
  {
   "cell_type": "markdown",
   "id": "984746cf",
   "metadata": {},
   "source": [
    "Show the last 7 rows of the CSV."
   ]
  },
  {
   "cell_type": "code",
   "execution_count": null,
   "id": "3a9db751",
   "metadata": {},
   "outputs": [],
   "source": [
    "df.tail(7)"
   ]
  },
  {
   "cell_type": "markdown",
   "id": "b623110f",
   "metadata": {},
   "source": [
    "Show all the Columns of the CSV."
   ]
  },
  {
   "cell_type": "code",
   "execution_count": null,
   "id": "51237cf3",
   "metadata": {},
   "outputs": [],
   "source": [
    "df.columns"
   ]
  },
  {
   "cell_type": "markdown",
   "id": "f11a662f",
   "metadata": {},
   "source": [
    "Show the specific data types of the CSV."
   ]
  },
  {
   "cell_type": "code",
   "execution_count": null,
   "id": "c02a1bec",
   "metadata": {},
   "outputs": [],
   "source": [
    "df.dtypes"
   ]
  },
  {
   "cell_type": "markdown",
   "id": "9c20225a",
   "metadata": {},
   "source": [
    "Show a statistical summary of the CSV."
   ]
  },
  {
   "cell_type": "code",
   "execution_count": null,
   "id": "49eacfd6",
   "metadata": {},
   "outputs": [],
   "source": [
    "df.describe()"
   ]
  },
  {
   "cell_type": "markdown",
   "id": "cef7d9b6",
   "metadata": {},
   "source": [
    "What objects are not included in the statistical summary?\n",
    "How can I get the objects that are not included?"
   ]
  },
  {
   "cell_type": "markdown",
   "id": "830cb9c3",
   "metadata": {},
   "source": [
    "What is not include is object"
   ]
  },
  {
   "cell_type": "code",
   "execution_count": 2,
   "id": "a4800aae",
   "metadata": {},
   "outputs": [],
   "source": [
    "# write the code to show me how to get the objects that are not included"
   ]
  },
  {
   "cell_type": "code",
   "execution_count": null,
   "id": "52b15a58",
   "metadata": {},
   "outputs": [],
   "source": [
    "df.describe(include='object')"
   ]
  },
  {
   "cell_type": "markdown",
   "id": "99d9800b",
   "metadata": {},
   "source": [
    "Show how to filter the names from the rest of the table?"
   ]
  },
  {
   "cell_type": "code",
   "execution_count": null,
   "id": "3d5beb44",
   "metadata": {},
   "outputs": [],
   "source": []
  },
  {
   "cell_type": "markdown",
   "id": "1f33826d",
   "metadata": {},
   "source": [
    "Show me the unique names."
   ]
  },
  {
   "cell_type": "code",
   "execution_count": null,
   "id": "83411794",
   "metadata": {},
   "outputs": [],
   "source": []
  },
  {
   "cell_type": "markdown",
   "id": "425f1898",
   "metadata": {},
   "source": [
    "Show me only the rows that are under $1.00"
   ]
  },
  {
   "cell_type": "code",
   "execution_count": null,
   "id": "e6f7febf",
   "metadata": {},
   "outputs": [],
   "source": []
  },
  {
   "cell_type": "markdown",
   "id": "7642a8a7",
   "metadata": {},
   "source": [
    "Show only the rows 17 to 37"
   ]
  },
  {
   "cell_type": "code",
   "execution_count": null,
   "id": "11b253e4",
   "metadata": {},
   "outputs": [],
   "source": [
    "df.iloc[17:37]"
   ]
  },
  {
   "cell_type": "markdown",
   "id": "afc57c6d",
   "metadata": {},
   "source": [
    "Show only the rows that are for Damien."
   ]
  },
  {
   "cell_type": "code",
   "execution_count": null,
   "id": "c39a6285",
   "metadata": {},
   "outputs": [],
   "source": []
  },
  {
   "cell_type": "markdown",
   "id": "39ad6196",
   "metadata": {},
   "source": [
    "Create a new column names is_candy and make all the rows True"
   ]
  },
  {
   "cell_type": "code",
   "execution_count": null,
   "id": "319f80c1",
   "metadata": {},
   "outputs": [],
   "source": []
  },
  {
   "cell_type": "markdown",
   "id": "0c88367d",
   "metadata": {},
   "source": [
    "Change the name of the row you created to Candy."
   ]
  },
  {
   "cell_type": "code",
   "execution_count": null,
   "id": "c7ba12f8",
   "metadata": {},
   "outputs": [],
   "source": []
  },
  {
   "cell_type": "markdown",
   "id": "dd5c1840",
   "metadata": {},
   "source": [
    "Write an statement that iterates through the list and finds all the Snicker or snickers"
   ]
  },
  {
   "cell_type": "code",
   "execution_count": null,
   "id": "939679cd",
   "metadata": {},
   "outputs": [],
   "source": []
  },
  {
   "cell_type": "markdown",
   "id": "86dc11f3",
   "metadata": {},
   "source": [
    "Using iloc change the 3rd row's candy column to False"
   ]
  },
  {
   "cell_type": "code",
   "execution_count": null,
   "id": "384d3f57",
   "metadata": {},
   "outputs": [],
   "source": []
  },
  {
   "cell_type": "markdown",
   "id": "f739b01c",
   "metadata": {},
   "source": [
    "Output the table to a csv named 'your_last_name_mod7output.csv'"
   ]
  },
  {
   "cell_type": "code",
   "execution_count": null,
   "id": "c5ef4a7a",
   "metadata": {},
   "outputs": [],
   "source": []
  },
  {
   "cell_type": "markdown",
   "id": "f149f3ba",
   "metadata": {},
   "source": [
    "Drop the candy column permanently"
   ]
  },
  {
   "cell_type": "code",
   "execution_count": null,
   "id": "b1a13aea",
   "metadata": {},
   "outputs": [],
   "source": []
  },
  {
   "cell_type": "markdown",
   "id": "6fd88ff4",
   "metadata": {},
   "source": [
    "# Please turn in the completed Juypter Notebook along with your output csv to github. Make sure that I can see the notebook and it is not just the file as this sometimes does not work. A link to the location on the repo should be submitted."
   ]
  },
  {
   "cell_type": "code",
   "execution_count": null,
   "id": "782a9706",
   "metadata": {},
   "outputs": [],
   "source": []
  }
 ],
 "metadata": {
  "kernelspec": {
   "display_name": "Python 3 (ipykernel)",
   "language": "python",
   "name": "python3"
  },
  "language_info": {
   "codemirror_mode": {
    "name": "ipython",
    "version": 3
   },
   "file_extension": ".py",
   "mimetype": "text/x-python",
   "name": "python",
   "nbconvert_exporter": "python",
   "pygments_lexer": "ipython3",
   "version": "3.11.5"
  }
 },
 "nbformat": 4,
 "nbformat_minor": 5
}
