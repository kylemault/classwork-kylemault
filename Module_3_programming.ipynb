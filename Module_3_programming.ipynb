{
 "cells": [
  {
   "cell_type": "code",
   "execution_count": null,
   "metadata": {},
   "outputs": [],
   "source": [
    "things = [\"mozzarella\", \"cinderella\", \"salmonella\"]\n",
    "things[1] = things[1].capitalize()\n",
    "print(things)\n"
   ]
  },
  {
   "cell_type": "code",
   "execution_count": null,
   "metadata": {},
   "outputs": [],
   "source": [
    "things = [\"mozzarella\", \"cinderella\", \"salmonella\"]\n",
    "things[0] = things[0].upper()\n",
    "print(things)"
   ]
  },
  {
   "cell_type": "code",
   "execution_count": null,
   "metadata": {},
   "outputs": [],
   "source": [
    "things = [\"mozzarella\", \"cinderella\", \"salmonella\"]\n",
    "del things[2]\n",
    "print(things)"
   ]
  },
  {
   "cell_type": "code",
   "execution_count": null,
   "metadata": {},
   "outputs": [],
   "source": [
    "def good():\n",
    "    return ['Harry', 'Ron', 'Hermione']\n",
    "print(good())"
   ]
  },
  {
   "cell_type": "code",
   "execution_count": null,
   "metadata": {},
   "outputs": [],
   "source": [
    "def get_odds():\n",
    "    odd_numbers = []\n",
    "    for num in range(10):\n",
    "        if num % 2 != 0:\n",
    "            odd_numbers.append(num)\n",
    "    return odd_numbers\n",
    "odd_numbers = get_odds()\n",
    "print(odd_numbers[4])"
   ]
  }
 ],
 "metadata": {
  "language_info": {
   "name": "python"
  }
 },
 "nbformat": 4,
 "nbformat_minor": 2
}
