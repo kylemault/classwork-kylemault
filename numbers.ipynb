{
 "cells": [
  {
   "cell_type": "code",
   "execution_count": 30,
   "id": "9280157c-2357-4fa3-a623-c2f5c3b0133d",
   "metadata": {},
   "outputs": [
    {
     "name": "stdout",
     "output_type": "stream",
     "text": [
      "3600\n"
     ]
    }
   ],
   "source": [
    "minutes = 60\n",
    "hour = 60\n",
    "seconds_per_hour = minutes * hour\n",
    "print(seconds_per_hour)"
   ]
  },
  {
   "cell_type": "code",
   "execution_count": 32,
   "id": "f2d7cc2f-210f-4401-84b3-b5500cd4d360",
   "metadata": {},
   "outputs": [
    {
     "name": "stdout",
     "output_type": "stream",
     "text": [
      "86400\n"
     ]
    }
   ],
   "source": [
    "seconds_per_day = seconds_per_hour * 24\n",
    "print(seconds_per_day)"
   ]
  },
  {
   "cell_type": "code",
   "execution_count": 37,
   "id": "f2507391-9627-4fc2-84f3-784de1021ba1",
   "metadata": {},
   "outputs": [
    {
     "name": "stdout",
     "output_type": "stream",
     "text": [
      "24.0\n"
     ]
    }
   ],
   "source": [
    "fp = seconds_per_day/seconds_per_hour\n",
    "print(fp)"
   ]
  },
  {
   "cell_type": "code",
   "execution_count": 34,
   "id": "9257ecab-aba9-43a2-8b28-f7a468674c6a",
   "metadata": {},
   "outputs": [
    {
     "name": "stdout",
     "output_type": "stream",
     "text": [
      "24\n"
     ]
    }
   ],
   "source": [
    "int = seconds_per_day//seconds_per_hour\n",
    "print(int)"
   ]
  },
  {
   "cell_type": "code",
   "execution_count": 39,
   "id": "7a82f981-f2b6-4cf6-af60-2c82883662c0",
   "metadata": {},
   "outputs": [
    {
     "data": {
      "text/plain": [
       "True"
      ]
     },
     "execution_count": 39,
     "metadata": {},
     "output_type": "execute_result"
    }
   ],
   "source": [
    "int == fp"
   ]
  },
  {
   "cell_type": "code",
   "execution_count": null,
   "id": "bd735ddc-2739-42f1-98ae-36534d8ca547",
   "metadata": {},
   "outputs": [],
   "source": [
    "yes it does agree with the vaule."
   ]
  }
 ],
 "metadata": {
  "kernelspec": {
   "display_name": "Python 3 (ipykernel)",
   "language": "python",
   "name": "python3"
  },
  "language_info": {
   "codemirror_mode": {
    "name": "ipython",
    "version": 3
   },
   "file_extension": ".py",
   "mimetype": "text/x-python",
   "name": "python",
   "nbconvert_exporter": "python",
   "pygments_lexer": "ipython3",
   "version": "3.12.4"
  }
 },
 "nbformat": 4,
 "nbformat_minor": 5
}
